{
 "cells": [
  {
   "cell_type": "code",
   "execution_count": 1,
   "id": "83e2dd58",
   "metadata": {},
   "outputs": [],
   "source": [
    "import math\n",
    "\n",
    "def distance_on_earth(lat1, lon1, lat2, lon2):\n",
    "    # Earth radius in kilometers\n",
    "    radius = 6371\n",
    "\n",
    "    # Convert latitude and longitude from degrees to radians\n",
    "    lat1_rad = math.radians(lat1)\n",
    "    lon1_rad = math.radians(lon1)\n",
    "    lat2_rad = math.radians(lat2)\n",
    "    lon2_rad = math.radians(lon2)\n",
    "\n",
    "    # Calculate the differences between the latitudes and longitudes\n",
    "    dlat = lat2_rad - lat1_rad\n",
    "    dlon = lon2_rad - lon1_rad\n",
    "\n",
    "    # Apply the Haversine formula to calculate the distance\n",
    "    a = math.sin(dlat / 2) ** 2 + math.cos(lat1_rad) * math.cos(lat2_rad) * math.sin(dlon / 2) ** 2\n",
    "    c = 2 * math.atan2(math.sqrt(a), math.sqrt(1 - a))\n",
    "    distance = radius * c\n",
    "\n",
    "    return distance"
   ]
  },
  {
   "cell_type": "code",
   "execution_count": 4,
   "id": "8f0a802e",
   "metadata": {},
   "outputs": [
    {
     "name": "stdout",
     "output_type": "stream",
     "text": [
      "9810.529991071793 km\n"
     ]
    }
   ],
   "source": [
    "distance = distance_on_earth(46.482952, 30.712481, 18.370247, -76.890305)\n",
    "\n",
    "print(f'{distance} km')\n",
    "#Odesa latitude 46.482952, longitude 30.712481\n",
    "#Port Maria, Jamaica Latitude 18.370247, Longitude -76.890305"
   ]
  },
  {
   "cell_type": "code",
   "execution_count": 5,
   "id": "5f66b276",
   "metadata": {},
   "outputs": [
    {
     "name": "stdout",
     "output_type": "stream",
     "text": [
      "11239.791600147379 km\n"
     ]
    }
   ],
   "source": [
    "#Guadalajara, Mexico\n",
    "#lat 20.659698, long -103.349609\n",
    "distance = distance_on_earth(46.482952, 30.712481,  20.659698, -103.349609)\n",
    "\n",
    "print(f'{distance} km')"
   ]
  },
  {
   "cell_type": "code",
   "execution_count": 6,
   "id": "e48b8013",
   "metadata": {},
   "outputs": [
    {
     "name": "stdout",
     "output_type": "stream",
     "text": [
      "2554.2643724026484 km\n"
     ]
    }
   ],
   "source": [
    "#Narvik, Norway, 68.438499, 17.427261\n",
    "distance = distance_on_earth(46.482952, 30.712481,  68.438499, 17.427261)\n",
    "\n",
    "print(f'{distance} km')"
   ]
  },
  {
   "cell_type": "code",
   "execution_count": null,
   "id": "04309df9",
   "metadata": {},
   "outputs": [],
   "source": []
  }
 ],
 "metadata": {
  "kernelspec": {
   "display_name": "Python 3 (ipykernel)",
   "language": "python",
   "name": "python3"
  },
  "language_info": {
   "codemirror_mode": {
    "name": "ipython",
    "version": 3
   },
   "file_extension": ".py",
   "mimetype": "text/x-python",
   "name": "python",
   "nbconvert_exporter": "python",
   "pygments_lexer": "ipython3",
   "version": "3.9.13"
  }
 },
 "nbformat": 4,
 "nbformat_minor": 5
}
