{
 "cells": [
  {
   "cell_type": "markdown",
   "id": "b81013c8",
   "metadata": {},
   "source": [
    "Завдання 1 Зробіть рефакторинг наступної програми (тобто використайте list comprehension і елементи функціонального програмування (map, filter))"
   ]
  },
  {
   "cell_type": "code",
   "execution_count": 39,
   "id": "18700a3f",
   "metadata": {},
   "outputs": [
    {
     "name": "stdout",
     "output_type": "stream",
     "text": [
      "[0.9503441508573337, 2.988264551346032, 4.145820901830154, 6.234220438181957, 8.611430745694927]\n",
      "[0.032575611678039906, 2.6144591077337798, 4.424175849869376, 6.054436408814648, 8.120450453935371]\n"
     ]
    }
   ],
   "source": [
    "import random\n",
    "\n",
    "list_with_numbers = list(range(10))\n",
    "new_list = []\n",
    "\n",
    "for i in list_with_numbers:\n",
    "    if not i%2:\n",
    "        new_list.append(i + random.random())\n",
    "  \n",
    "print(new_list)\n",
    "\n",
    "list_with_numbers = list(range(10))\n",
    "new_list_1 = [i + random.random() for i in list_with_numbers if not i % 2]\n",
    "\n",
    "print(new_list_1)"
   ]
  },
  {
   "cell_type": "markdown",
   "id": "98f514a0",
   "metadata": {},
   "source": [
    "Завдання 3\n",
    "\tДано деякий список [(1,1,1), (1,2,3), (-1,-1,7), (-3,-2,8), (0,0,0), (3,-4,-5)]\n",
    "\t\t- відсортуйте даний список по сумі кортежів\n",
    "\t\t- відсортуйте даний список по третіх елементах з кортежів"
   ]
  },
  {
   "cell_type": "code",
   "execution_count": 13,
   "id": "a945c569",
   "metadata": {},
   "outputs": [
    {
     "name": "stdout",
     "output_type": "stream",
     "text": [
      "[(3, -4, -5), (0, 0, 0), (1, 1, 1), (-3, -2, 8), (-1, -1, 7), (1, 2, 3)]\n"
     ]
    }
   ],
   "source": [
    "lst = [(1, 1, 1), (1, 2, 3), (-1, -1, 7), (-3, -2, 8), (0, 0, 0), (3, -4, -5)]\n",
    "sorted_lst = sorted(lst, key=lambda x: sum(x))\n",
    "print(sorted_lst)\n",
    "        "
   ]
  },
  {
   "cell_type": "code",
   "execution_count": 14,
   "id": "1d894071",
   "metadata": {},
   "outputs": [
    {
     "name": "stdout",
     "output_type": "stream",
     "text": [
      "[(3, -4, -5), (0, 0, 0), (1, 1, 1), (1, 2, 3), (-1, -1, 7), (-3, -2, 8)]\n"
     ]
    }
   ],
   "source": [
    "lst = [(1, 1, 1), (1, 2, 3), (-1, -1, 7), (-3, -2, 8), (0, 0, 0), (3, -4, -5)]\n",
    "sorted_lst = sorted(lst, key=lambda x: x[2])\n",
    "print(sorted_lst)"
   ]
  },
  {
   "cell_type": "markdown",
   "id": "a3dc9a6e",
   "metadata": {},
   "source": [
    "\n",
    "Завдання 4\n",
    "\tДано словник {'b':3, 'c':2, 'a':4, 'd':1}\n",
    "\t\t- виведіть ключі даного словника в алфавітному порядку\n",
    "\t\t- виведіть ключі даного словника в порядку спадання по значеннях"
   ]
  },
  {
   "cell_type": "code",
   "execution_count": 7,
   "id": "dda6ae87",
   "metadata": {},
   "outputs": [
    {
     "name": "stdout",
     "output_type": "stream",
     "text": [
      "a\n",
      "b\n",
      "c\n",
      "d\n"
     ]
    }
   ],
   "source": [
    "d = {'b':3, 'c':2, 'a':4, 'd':1}\n",
    "for key in sorted(d.keys()):\n",
    "    print(key)"
   ]
  },
  {
   "cell_type": "code",
   "execution_count": 12,
   "id": "2b4342be",
   "metadata": {},
   "outputs": [
    {
     "name": "stdout",
     "output_type": "stream",
     "text": [
      "a\n",
      "b\n",
      "c\n",
      "d\n"
     ]
    }
   ],
   "source": [
    "d = {'b': 3, 'c': 2, 'a': 4, 'd': 1}\n",
    "for key in sorted(d, key=d.get, reverse=True):\n",
    "    print(key)"
   ]
  },
  {
   "cell_type": "markdown",
   "id": "743b48f5",
   "metadata": {},
   "source": [
    "\n",
    "Завдання 5\n",
    "\tНапишіть функцію-генератор яка буде повертати літери алфавіту. \n",
    "\t(Щоб отримати алфавіт - використайте ascii_lowercase в бібліотеці string)\n"
   ]
  },
  {
   "cell_type": "code",
   "execution_count": 2,
   "id": "30b3593c",
   "metadata": {},
   "outputs": [
    {
     "name": "stdout",
     "output_type": "stream",
     "text": [
      "a\n",
      "b\n",
      "c\n",
      "d\n",
      "e\n"
     ]
    }
   ],
   "source": [
    "import string\n",
    "\n",
    "def alphabet_generator():\n",
    "    for letter in string.ascii_lowercase:\n",
    "        yield letter\n",
    "        \n",
    "gen = alphabet_generator()\n",
    "print(next(gen))  # виводить 'a'\n",
    "print(next(gen))  # виводить 'b'\n",
    "print(next(gen))  # виводить 'c'\n",
    "print(next(gen))  # виводить 'd'\n",
    "print(next(gen))  # виводить 'e'"
   ]
  },
  {
   "cell_type": "code",
   "execution_count": null,
   "id": "3d4aca91",
   "metadata": {},
   "outputs": [],
   "source": []
  },
  {
   "cell_type": "code",
   "execution_count": null,
   "id": "99dd2778",
   "metadata": {},
   "outputs": [],
   "source": []
  }
 ],
 "metadata": {
  "kernelspec": {
   "display_name": "Python 3 (ipykernel)",
   "language": "python",
   "name": "python3"
  },
  "language_info": {
   "codemirror_mode": {
    "name": "ipython",
    "version": 3
   },
   "file_extension": ".py",
   "mimetype": "text/x-python",
   "name": "python",
   "nbconvert_exporter": "python",
   "pygments_lexer": "ipython3",
   "version": "3.9.13"
  }
 },
 "nbformat": 4,
 "nbformat_minor": 5
}
