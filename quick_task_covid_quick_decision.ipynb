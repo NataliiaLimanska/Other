{
 "cells": [
  {
   "cell_type": "code",
   "execution_count": 8,
   "id": "7b541e3f",
   "metadata": {},
   "outputs": [
    {
     "name": "stdout",
     "output_type": "stream",
     "text": [
      "{'Mainland China': 1364.0, 'Hong Kong': 11837.0, 'Macau': 51.0, 'Taiwan': 7806.0, 'US': 60144.0, 'Japan': 1541.0, 'Thailand': 151842.0, 'South Korea': 139910.0, 'China': 0.0, 'Kiribati': 2.0, 'Singapore': 62003.0, 'Philippines': 1216582.0, 'Malaysia': 558534.0, 'Vietnam': 6908.0, 'Australia': 1017.0, 'Mexico': 30758.0, 'Brazil': 177464.0, 'Colombia': 1772.0, 'France': 445.0, 'Nepal': 553422.0, 'Canada': 84.0, 'Cambodia': 28825.0, 'Sri Lanka': 180593.0, 'Ivory Coast': 47233.0, 'Germany': 5126.0, 'Finland': 92244.0, 'United Arab Emirates': 567263.0, 'India': 1354956.0, 'Italy': 423117.0, 'UK': 212672.0, 'Russia': 43126.0, 'Sweden': 186844.0, 'Spain': 0.0, 'Belgium': 95724.0, 'Others': 712.0, 'Egypt': 260659.0, 'Iran': 2893218.0, 'Israel': 839453.0, 'Lebanon': 540132.0, 'Iraq': 1193608.0, 'Oman': 213784.0, 'Afghanistan': 70111.0, 'Bahrain': 235698.0, 'Kuwait': 306717.0, 'Austria': 644207.0, 'Algeria': 128456.0, 'Croatia': 355955.0, 'Switzerland': 693023.0, 'Pakistan': 316752.0, 'Georgia': 342880.0, 'Greece': 400395.0, 'North Macedonia': 155246.0, 'Norway': 124655.0, 'Romania': 1077426.0, 'Denmark': 37.0, 'Estonia': 129424.0, 'Netherlands': 391559.0, 'San Marino': 5089.0, ' Azerbaijan': 1.0, 'Belarus': 392629.0, 'Iceland': 6555.0, 'Lithuania': 273866.0, 'New Zealand': 2672.0, 'Nigeria': 166285.0, 'North Ireland': 1.0, 'Ireland': 254870.0, 'Luxembourg': 69830.0, 'Monaco': 2503.0, 'Qatar': 217041.0, 'Ecuador': 424741.0, 'Azerbaijan': 333723.0, 'Czech Republic': 1660935.0, 'Armenia': 222555.0, 'Dominican Republic': 290526.0, 'Indonesia': 1809926.0, 'Portugal': 848213.0, 'Andorra': 13693.0, 'Latvia': 132918.0, 'Morocco': 518868.0, 'Saudi Arabia': 448284.0, 'Senegal': 41331.0, 'Argentina': 3732263.0, 'Chile': 97830.0, 'Jordan': 734659.0, 'Ukraine': 87550.0, 'Saint Barthelemy': 1.0, 'Hungary': 804032.0, 'Faroe Islands': 2.0, 'Gibraltar': 1.0, 'Liechtenstein': 3008.0, 'Poland': 2871371.0, 'Tunisia': 343374.0, 'Palestine': 22.0, 'Bosnia and Herzegovina': 203839.0, 'Slovenia': 253493.0, 'South Africa': 1659070.0, 'Bhutan': 1603.0, 'Cameroon': 78929.0, 'Costa Rica': 314102.0, 'Peru': 0.0, 'Serbia': 712046.0, 'Slovakia': 389440.0, 'Togo': 13432.0, 'Vatican City': 1.0, 'French Guiana': 18.0, 'Malta': 30529.0, 'Martinique': 32.0, 'Republic of Ireland': 21.0, 'Bulgaria': 418221.0, 'Maldives': 62906.0, 'Bangladesh': 797386.0, 'Moldova': 255105.0, 'Paraguay': 350613.0, 'Albania': 132297.0, 'Cyprus': 72363.0, 'St. Martin': 2.0, 'Brunei': 241.0, 'occupied Palestinian territory': 0.0, ')\"': 2.0, 'Burkina Faso': 13430.0, 'Channel Islands': 1.0, 'Holy See': 27.0, 'Mongolia': 56621.0, 'Panama': 377428.0, 'Bolivia': 366714.0, 'Honduras': 236952.0, 'Congo (Kinshasa)': 31416.0, 'Jamaica': 48374.0, 'Reunion': 45.0, 'Turkey': 5235978.0, 'Cuba': 140087.0, 'Guyana': 16822.0, 'Kazakhstan': 438715.0, 'Cayman Islands': 1.0, 'Guadeloupe': 53.0, 'Ethiopia': 271200.0, 'Sudan': 35289.0, 'Guinea': 23172.0, 'Antigua and Barbuda': 1259.0, 'Aruba': 4.0, 'Kenya': 170485.0, 'Uruguay': 288172.0, 'Ghana': 93775.0, 'Jersey': 0.0, 'Namibia': 54659.0, 'Seychelles': 11145.0, 'Trinidad and Tobago': 23001.0, 'Venezuela': 231443.0, 'Curacao': 1.0, 'Eswatini': 18589.0, 'Gabon': 24365.0, 'Guatemala': 253837.0, 'Guernsey': 0.0, 'Mauritania': 19463.0, 'Rwanda': 26892.0, 'Saint Lucia': 5035.0, 'Saint Vincent and the Grenadines': 2027.0, 'Suriname': 14515.0, 'Kosovo': 106946.0, 'Central African Republic': 7085.0, 'Congo (Brazzaville)': 11658.0, 'Equatorial Guinea': 8529.0, 'Uzbekistan': 99844.0, 'Guam': 0.0, 'Puerto Rico': 0.0, 'Benin': 8058.0, 'Greenland': 0.0, 'Liberia': 2179.0, 'Mayotte': 7.0, 'Republic of the Congo': 0.0, 'Somalia': 14653.0, 'Tanzania': 509.0, 'The Bahamas': 0.0, 'Barbados': 4012.0, 'Montenegro': 99566.0, 'The Gambia': 0.0, 'Kyrgyzstan': 104222.0, 'Mauritius': 1363.0, 'Zambia': 94751.0, 'Djibouti': 11523.0, ' The\"': 1.0, 'Chad': 4928.0, 'El Salvador': 73246.0, 'Fiji': 360.0, 'Nicaragua': 7324.0, 'Madagascar': 41234.0, 'Haiti': 14128.0, 'Angola': 34180.0, 'Cabo Verde': 30273.0, 'Niger': 5410.0, 'Papua New Guinea': 15772.0, 'Zimbabwe': 38933.0, 'Cape Verde': 1.0, 'East Timor': 1.0, 'Eritrea': 4061.0, 'Uganda': 45931.0, 'Bahamas': 11745.0, 'Dominica': 188.0, 'Gambia': 5990.0, 'Grenada': 161.0, 'Mozambique': 70724.0, 'Samoa': 3.0, 'Syria': 24440.0, 'Timor-Leste': 6752.0, 'Belize': 12791.0, 'Laos': 1908.0, 'Libya': 184815.0, 'Diamond Princess': 712.0, 'Guinea-Bissau': 3761.0, 'Mali': 14265.0, 'Saint Kitts and Nevis': 68.0, 'West Bank and Gaza': 307838.0, 'Burma': 143526.0, 'MS Zaandam': 9.0, 'Botswana': 53771.0, 'Burundi': 4715.0, 'Sierra Leone': 4141.0, 'Malawi': 34329.0, 'South Sudan': 10688.0, 'Sao Tome and Principe': 2345.0, 'Yemen': 6731.0, 'Comoros': 3881.0, 'Tajikistan': 13308.0, 'Lesotho': 10825.0, 'Solomon Islands': 20.0, 'Marshall Islands': 4.0, 'Vanuatu': 4.0, 'Micronesia': 1.0}\n"
     ]
    }
   ],
   "source": [
    "dict_c = {}\n",
    "\n",
    "with open(\"covid_19_data.csv\") as file:\n",
    "    file.readline()\n",
    "    for row in file:\n",
    "        country = row.split(\",\")[-5]\n",
    "        cases = float(row.split(\",\")[-3])\n",
    "#         print(country, cases)\n",
    "        dict_c[country] = cases     \n",
    "    print(dict_c)\n",
    "    \n"
   ]
  },
  {
   "cell_type": "code",
   "execution_count": 19,
   "id": "0cf07fc4",
   "metadata": {},
   "outputs": [
    {
     "name": "stdout",
     "output_type": "stream",
     "text": [
      "87550.0\n"
     ]
    }
   ],
   "source": [
    "print(dict_c['Ukraine'])"
   ]
  },
  {
   "cell_type": "code",
   "execution_count": 18,
   "id": "ebc8a5db",
   "metadata": {},
   "outputs": [
    {
     "name": "stdout",
     "output_type": "stream",
     "text": [
      "{'Mainland China': 1364.0, 'Hong Kong': 11837.0, 'Macau': 51.0, 'Taiwan': 7806.0, 'US': 60144.0, 'Japan': 1541.0, 'Thailand': 151842.0, 'South Korea': 139910.0, 'China': 0.0, 'Kiribati': 2.0, 'Singapore': 62003.0, 'Philippines': 1216582.0, 'Malaysia': 558534.0, 'Vietnam': 6908.0, 'Australia': 1017.0, 'Mexico': 30758.0, 'Brazil': 177464.0, 'Colombia': 1772.0, 'France': 445.0, 'Nepal': 553422.0, 'Canada': 84.0, 'Cambodia': 28825.0, 'Sri Lanka': 180593.0, 'Ivory Coast': 47233.0, 'Germany': 5126.0, 'Finland': 92244.0, 'United Arab Emirates': 567263.0, 'India': 1354956.0, 'Italy': 423117.0, 'UK': 212672.0, 'Russia': 43126.0, 'Sweden': 186844.0, 'Spain': 0.0, 'Belgium': 95724.0, 'Others': 712.0, 'Egypt': 260659.0, 'Iran': 2893218.0, 'Israel': 839453.0, 'Lebanon': 540132.0, 'Iraq': 1193608.0, 'Oman': 213784.0, 'Afghanistan': 70111.0, 'Bahrain': 235698.0, 'Kuwait': 306717.0, 'Austria': 644207.0, 'Algeria': 128456.0, 'Croatia': 355955.0, 'Switzerland': 693023.0, 'Pakistan': 316752.0, 'Georgia': 342880.0, 'Greece': 400395.0, 'North Macedonia': 155246.0, 'Norway': 124655.0, 'Romania': 1077426.0, 'Denmark': 37.0, 'Estonia': 129424.0, 'Netherlands': 391559.0, 'San Marino': 5089.0, ' Azerbaijan': 1.0, 'Belarus': 392629.0, 'Iceland': 6555.0, 'Lithuania': 273866.0, 'New Zealand': 2672.0, 'Nigeria': 166285.0, 'North Ireland': 1.0, 'Ireland': 254870.0, 'Luxembourg': 69830.0, 'Monaco': 2503.0, 'Qatar': 217041.0, 'Ecuador': 424741.0, 'Azerbaijan': 333723.0, 'Czech Republic': 1660935.0, 'Armenia': 222555.0, 'Dominican Republic': 290526.0, 'Indonesia': 1809926.0, 'Portugal': 848213.0, 'Andorra': 13693.0, 'Latvia': 132918.0, 'Morocco': 518868.0, 'Saudi Arabia': 448284.0, 'Senegal': 41331.0, 'Argentina': 3732263.0, 'Chile': 97830.0, 'Jordan': 734659.0, 'Ukraine': 87550.0, 'Saint Barthelemy': 1.0, 'Hungary': 804032.0, 'Faroe Islands': 2.0, 'Gibraltar': 1.0, 'Liechtenstein': 3008.0, 'Poland': 2871371.0, 'Tunisia': 343374.0, 'Palestine': 22.0, 'Bosnia and Herzegovina': 203839.0, 'Slovenia': 253493.0, 'South Africa': 1659070.0, 'Bhutan': 1603.0, 'Cameroon': 78929.0, 'Costa Rica': 314102.0, 'Peru': 0.0, 'Serbia': 712046.0, 'Slovakia': 389440.0, 'Togo': 13432.0, 'Vatican City': 1.0, 'French Guiana': 18.0, 'Malta': 30529.0, 'Martinique': 32.0, 'Republic of Ireland': 21.0, 'Bulgaria': 418221.0, 'Maldives': 62906.0, 'Bangladesh': 797386.0, 'Moldova': 255105.0, 'Paraguay': 350613.0, 'Albania': 132297.0, 'Cyprus': 72363.0, 'St. Martin': 2.0, 'Brunei': 241.0, 'occupied Palestinian territory': 0.0, ')\"': 2.0, 'Burkina Faso': 13430.0, 'Channel Islands': 1.0, 'Holy See': 27.0, 'Mongolia': 56621.0, 'Panama': 377428.0, 'Bolivia': 366714.0, 'Honduras': 236952.0, 'Congo (Kinshasa)': 31416.0, 'Jamaica': 48374.0, 'Reunion': 45.0, 'Turkey': 5235978.0, 'Cuba': 140087.0, 'Guyana': 16822.0, 'Kazakhstan': 438715.0, 'Cayman Islands': 1.0, 'Guadeloupe': 53.0, 'Ethiopia': 271200.0, 'Sudan': 35289.0, 'Guinea': 23172.0, 'Antigua and Barbuda': 1259.0, 'Aruba': 4.0, 'Kenya': 170485.0, 'Uruguay': 288172.0, 'Ghana': 93775.0, 'Jersey': 0.0, 'Namibia': 54659.0, 'Seychelles': 11145.0, 'Trinidad and Tobago': 23001.0, 'Venezuela': 231443.0, 'Curacao': 1.0, 'Eswatini': 18589.0, 'Gabon': 24365.0, 'Guatemala': 253837.0, 'Guernsey': 0.0, 'Mauritania': 19463.0, 'Rwanda': 26892.0, 'Saint Lucia': 5035.0, 'Saint Vincent and the Grenadines': 2027.0, 'Suriname': 14515.0, 'Kosovo': 106946.0, 'Central African Republic': 7085.0, 'Congo (Brazzaville)': 11658.0, 'Equatorial Guinea': 8529.0, 'Uzbekistan': 99844.0, 'Guam': 0.0, 'Puerto Rico': 0.0, 'Benin': 8058.0, 'Greenland': 0.0, 'Liberia': 2179.0, 'Mayotte': 7.0, 'Republic of the Congo': 0.0, 'Somalia': 14653.0, 'Tanzania': 509.0, 'The Bahamas': 0.0, 'Barbados': 4012.0, 'Montenegro': 99566.0, 'The Gambia': 0.0, 'Kyrgyzstan': 104222.0, 'Mauritius': 1363.0, 'Zambia': 94751.0, 'Djibouti': 11523.0, ' The\"': 1.0, 'Chad': 4928.0, 'El Salvador': 73246.0, 'Fiji': 360.0, 'Nicaragua': 7324.0, 'Madagascar': 41234.0, 'Haiti': 14128.0, 'Angola': 34180.0, 'Cabo Verde': 30273.0, 'Niger': 5410.0, 'Papua New Guinea': 15772.0, 'Zimbabwe': 38933.0, 'Cape Verde': 1.0, 'East Timor': 1.0, 'Eritrea': 4061.0, 'Uganda': 45931.0, 'Bahamas': 11745.0, 'Dominica': 188.0, 'Gambia': 5990.0, 'Grenada': 161.0, 'Mozambique': 70724.0, 'Samoa': 3.0, 'Syria': 24440.0, 'Timor-Leste': 6752.0, 'Belize': 12791.0, 'Laos': 1908.0, 'Libya': 184815.0, 'Diamond Princess': 712.0, 'Guinea-Bissau': 3761.0, 'Mali': 14265.0, 'Saint Kitts and Nevis': 68.0, 'West Bank and Gaza': 307838.0, 'Burma': 143526.0, 'MS Zaandam': 9.0, 'Botswana': 53771.0, 'Burundi': 4715.0, 'Sierra Leone': 4141.0, 'Malawi': 34329.0, 'South Sudan': 10688.0, 'Sao Tome and Principe': 2345.0, 'Yemen': 6731.0, 'Comoros': 3881.0, 'Tajikistan': 13308.0, 'Lesotho': 10825.0, 'Solomon Islands': 20.0, 'Marshall Islands': 4.0, 'Vanuatu': 4.0, 'Micronesia': 1.0}\n"
     ]
    }
   ],
   "source": [
    "summary = {}\n",
    "\n",
    "for key, value in dict_c.items():\n",
    "    if key in summary:\n",
    "        summary[key] += value\n",
    "    else:\n",
    "        summary[key] = value\n",
    "        \n",
    "print(summary)"
   ]
  },
  {
   "cell_type": "code",
   "execution_count": 21,
   "id": "4c8a380f",
   "metadata": {},
   "outputs": [
    {
     "name": "stdout",
     "output_type": "stream",
     "text": [
      "87550.0\n"
     ]
    }
   ],
   "source": [
    "print(summary['Ukraine'])"
   ]
  },
  {
   "cell_type": "code",
   "execution_count": 23,
   "id": "3109c2e6",
   "metadata": {},
   "outputs": [],
   "source": [
    "import pickle\n",
    "\n",
    "pickle.dump(dict_c, open( \"dict.p\", \"wb\") )"
   ]
  },
  {
   "cell_type": "code",
   "execution_count": null,
   "id": "daa9b89f",
   "metadata": {},
   "outputs": [],
   "source": []
  }
 ],
 "metadata": {
  "kernelspec": {
   "display_name": "Python 3 (ipykernel)",
   "language": "python",
   "name": "python3"
  },
  "language_info": {
   "codemirror_mode": {
    "name": "ipython",
    "version": 3
   },
   "file_extension": ".py",
   "mimetype": "text/x-python",
   "name": "python",
   "nbconvert_exporter": "python",
   "pygments_lexer": "ipython3",
   "version": "3.9.13"
  }
 },
 "nbformat": 4,
 "nbformat_minor": 5
}
